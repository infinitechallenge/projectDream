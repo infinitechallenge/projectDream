{
 "cells": [
  {
   "cell_type": "markdown",
   "metadata": {},
   "source": [
    "# Let's take a look at Nike salary from H1B data"
   ]
  },
  {
   "cell_type": "code",
   "execution_count": 1,
   "metadata": {},
   "outputs": [],
   "source": [
    "import pandas as pd"
   ]
  },
  {
   "cell_type": "code",
   "execution_count": 57,
   "metadata": {},
   "outputs": [],
   "source": [
    "df = pd.read_csv('data/nikeH1Bsalary.csv', names = [\"position\", \"salary\", \"location\", \"submitDate\", \"startDate\",\"caseStatus\"])"
   ]
  },
  {
   "cell_type": "code",
   "execution_count": 58,
   "metadata": {},
   "outputs": [
    {
     "data": {
      "text/html": [
       "<div>\n",
       "<style scoped>\n",
       "    .dataframe tbody tr th:only-of-type {\n",
       "        vertical-align: middle;\n",
       "    }\n",
       "\n",
       "    .dataframe tbody tr th {\n",
       "        vertical-align: top;\n",
       "    }\n",
       "\n",
       "    .dataframe thead th {\n",
       "        text-align: right;\n",
       "    }\n",
       "</style>\n",
       "<table border=\"1\" class=\"dataframe\">\n",
       "  <thead>\n",
       "    <tr style=\"text-align: right;\">\n",
       "      <th></th>\n",
       "      <th>position</th>\n",
       "      <th>salary</th>\n",
       "      <th>location</th>\n",
       "      <th>submitDate</th>\n",
       "      <th>startDate</th>\n",
       "      <th>caseStatus</th>\n",
       "    </tr>\n",
       "  </thead>\n",
       "  <tbody>\n",
       "    <tr>\n",
       "      <th>NIKE INC</th>\n",
       "      <td>ACCOUNTING MANAGER GLOBAL SC INFORMATION</td>\n",
       "      <td>121,755</td>\n",
       "      <td>BEAVERTON, OR</td>\n",
       "      <td>10/10/2017</td>\n",
       "      <td>10/13/2017</td>\n",
       "      <td>CERTIFIED</td>\n",
       "    </tr>\n",
       "    <tr>\n",
       "      <th>NIKE INC</th>\n",
       "      <td>ANALYTICS MANAGER</td>\n",
       "      <td>110,000</td>\n",
       "      <td>BEAVERTON, OR</td>\n",
       "      <td>03/04/2015</td>\n",
       "      <td>07/01/2015</td>\n",
       "      <td>CERTIFIED</td>\n",
       "    </tr>\n",
       "    <tr>\n",
       "      <th>NIKE USA INC</th>\n",
       "      <td>ANALYTICS MANAGER</td>\n",
       "      <td>110,000</td>\n",
       "      <td>BEAVERTON, OR</td>\n",
       "      <td>02/18/2014</td>\n",
       "      <td>08/06/2014</td>\n",
       "      <td>CERTIFIED</td>\n",
       "    </tr>\n",
       "    <tr>\n",
       "      <th>NIKE INC</th>\n",
       "      <td>ANDROID ENGINEER</td>\n",
       "      <td>118,000</td>\n",
       "      <td>BEAVERTON, OR</td>\n",
       "      <td>09/12/2017</td>\n",
       "      <td>12/04/2017</td>\n",
       "      <td>CERTIFIED</td>\n",
       "    </tr>\n",
       "    <tr>\n",
       "      <th>NIKE INC</th>\n",
       "      <td>APPAREL DESIGNER II</td>\n",
       "      <td>95,000</td>\n",
       "      <td>BEAVERTON, OR</td>\n",
       "      <td>10/03/2014</td>\n",
       "      <td>10/20/2014</td>\n",
       "      <td>CERTIFIED</td>\n",
       "    </tr>\n",
       "  </tbody>\n",
       "</table>\n",
       "</div>"
      ],
      "text/plain": [
       "                                              position   salary  \\\n",
       "NIKE INC      ACCOUNTING MANAGER GLOBAL SC INFORMATION  121,755   \n",
       "NIKE INC                             ANALYTICS MANAGER  110,000   \n",
       "NIKE USA INC                         ANALYTICS MANAGER  110,000   \n",
       "NIKE INC                              ANDROID ENGINEER  118,000   \n",
       "NIKE INC                           APPAREL DESIGNER II   95,000   \n",
       "\n",
       "                   location  submitDate   startDate caseStatus  \n",
       "NIKE INC      BEAVERTON, OR  10/10/2017  10/13/2017  CERTIFIED  \n",
       "NIKE INC      BEAVERTON, OR  03/04/2015  07/01/2015  CERTIFIED  \n",
       "NIKE USA INC  BEAVERTON, OR  02/18/2014  08/06/2014  CERTIFIED  \n",
       "NIKE INC      BEAVERTON, OR  09/12/2017  12/04/2017  CERTIFIED  \n",
       "NIKE INC      BEAVERTON, OR  10/03/2014  10/20/2014  CERTIFIED  "
      ]
     },
     "execution_count": 58,
     "metadata": {},
     "output_type": "execute_result"
    }
   ],
   "source": [
    "df.head()"
   ]
  },
  {
   "cell_type": "code",
   "execution_count": 16,
   "metadata": {},
   "outputs": [
    {
     "data": {
      "text/plain": [
       "BEAVERTON, OR    447\n",
       "HILLSBORO, OR     15\n",
       "MEMPHIS, TN       10\n",
       "NEW YORK, NY       3\n",
       "PORTLAND, OR       1\n",
       "Name: location, dtype: int64"
      ]
     },
     "execution_count": 16,
     "metadata": {},
     "output_type": "execute_result"
    }
   ],
   "source": [
    "#most of the H1B employees in Beaverton and Hillsboro, where Nike is headquartered\n",
    "df['location'].value_counts()"
   ]
  },
  {
   "cell_type": "code",
   "execution_count": 59,
   "metadata": {},
   "outputs": [],
   "source": [
    "#convert the salary dtypes to integer \n",
    "df['salary'] = df['salary'].str.replace(',', '')\n",
    "df['salary'] = df['salary'].astype(int)"
   ]
  },
  {
   "cell_type": "code",
   "execution_count": 60,
   "metadata": {},
   "outputs": [],
   "source": [
    "#convert the date dtypes to dates\n",
    "df['submitDate'] = pd.to_datetime(df['submitDate'], format= \"%m/%d/%Y\")\n",
    "df['startDate'] = pd.to_datetime(df['startDate'], format= \"%m/%d/%Y\")"
   ]
  },
  {
   "cell_type": "code",
   "execution_count": 32,
   "metadata": {
    "scrolled": true
   },
   "outputs": [
    {
     "data": {
      "text/plain": [
       "count       476.000000\n",
       "mean     113412.859244\n",
       "std       29619.046269\n",
       "min       53000.000000\n",
       "25%       99183.750000\n",
       "50%      110000.000000\n",
       "75%      120000.000000\n",
       "max      350000.000000\n",
       "Name: salary, dtype: float64"
      ]
     },
     "execution_count": 32,
     "metadata": {},
     "output_type": "execute_result"
    }
   ],
   "source": [
    "df['salary'].describe()"
   ]
  },
  {
   "cell_type": "markdown",
   "metadata": {},
   "source": [
    "# Take a closer look at it"
   ]
  },
  {
   "cell_type": "code",
   "execution_count": 47,
   "metadata": {},
   "outputs": [],
   "source": [
    "#import module for visualization\n",
    "import matplotlib.pyplot as plt\n",
    "%matplotlib inline"
   ]
  },
  {
   "cell_type": "code",
   "execution_count": 52,
   "metadata": {},
   "outputs": [
    {
     "data": {
      "text/plain": [
       "<matplotlib.axes._subplots.AxesSubplot at 0xb7c3e80>"
      ]
     },
     "execution_count": 52,
     "metadata": {},
     "output_type": "execute_result"
    },
    {
     "data": {
      "image/png": "[encoded data removed]",
      "text/plain": [
       "<matplotlib.figure.Figure at 0xb798470>"
      ]
     },
     "metadata": {},
     "output_type": "display_data"
    }
   ],
   "source": [
    "df.location.value_counts(normalize=True).plot(kind='bar')\n",
    "#Mostly in Beaverton (447), where Nike WHQ is located"
   ]
  },
  {
   "cell_type": "code",
   "execution_count": 53,
   "metadata": {},
   "outputs": [
    {
     "data": {
      "text/plain": [
       "BEAVERTON, OR    447\n",
       "HILLSBORO, OR     15\n",
       "MEMPHIS, TN       10\n",
       "NEW YORK, NY       3\n",
       "PORTLAND, OR       1\n",
       "Name: location, dtype: int64"
      ]
     },
     "execution_count": 53,
     "metadata": {},
     "output_type": "execute_result"
    }
   ],
   "source": [
    "df.location.value_counts()"
   ]
  },
  {
   "cell_type": "code",
   "execution_count": 54,
   "metadata": {},
   "outputs": [
    {
     "data": {
      "text/plain": [
       "<matplotlib.axes._subplots.AxesSubplot at 0xb07e780>"
      ]
     },
     "execution_count": 54,
     "metadata": {},
     "output_type": "execute_result"
    },
    {
     "data": {
      "image/png": "[encoded data removed]",
      "text/plain": [
       "<matplotlib.figure.Figure at 0xb0e4160>"
      ]
     },
     "metadata": {},
     "output_type": "display_data"
    }
   ],
   "source": [
    "df.salary.plot(kind='kde')"
   ]
  },
  {
   "cell_type": "code",
   "execution_count": 61,
   "metadata": {},
   "outputs": [
    {
     "data": {
      "text/plain": [
       "SENIOR APPLICATION ENGINEER                                   19\n",
       "SENIOR SOFTWARE ENGINEER                                      13\n",
       "SENIOR HADOOP ENGINEER                                         7\n",
       "SOFTWARE ENGINEER                                              6\n",
       "TEST ENGINEER                                                  4\n",
       "FOOTWEAR DESIGNER II                                           4\n",
       "SENIOR JAVA APPLICATION ENGINEER                               4\n",
       "TECH LEAD INTEGRATION ENGINEER, EAI                            4\n",
       "SR. SAP BUSINESS SYSTEMS ANALYST                               4\n",
       "LEAD JAVA APPLICATION ENGINEER                                 4\n",
       "LEAD PRODUCT ENGINEER                                          3\n",
       "FINANCE MANAGER                                                3\n",
       "SENIOR INTEGRATION ENGINEER                                    3\n",
       "LEAD SAP APPLICATION ENGINEER                                  3\n",
       "FINANCE MANAGER, GLOBAL BUSINESS PLANNING                      3\n",
       "SOFTWARE QUALITY ASSURANCE ENGINEER                            3\n",
       "FOOTWEAR DESIGNER I                                            3\n",
       "SENIOR BUSINESS SYSTEMS ANALYST                                3\n",
       "MATERIALS RESEARCHER II                                        2\n",
       "SENIOR SAP BUSINESS SYSTEMS ANALYST                            2\n",
       "APPAREL DESIGNER II NIKE LAB                                   2\n",
       "SENIOR TECHNICAL ENGINEER                                      2\n",
       "SENIOR JAVA SOFTWARE ENGINEER                                  2\n",
       "FOOTWEAR DESIGNER I - INNOVATION                               2\n",
       "SENIOR APPLICATION SECURITY ARCHITECT                          2\n",
       "SR. SOFTWARE ENGINEER                                          2\n",
       "SOFTWARE QUALITY MANAGEMENT LEAD                               2\n",
       "SENIOR SOFTWARE QUALITY ASSURANCE ENGINEER                     2\n",
       "SENIOR APPLICATION ENGINEER - JAVA                             2\n",
       "SENIOR APPLICATIONS ENGINEER - MOBILE                          2\n",
       "                                                              ..\n",
       "PRODUCT DESIGNER - APPAREL DESIGN II                           1\n",
       "SENIOR NIKEU PROGRAMMER                                        1\n",
       "DIRECTOR, EMERGING CONSUMER TRENDS AND INNOVATION              1\n",
       "DESIGN DIRECTOR WOMENS                                         1\n",
       "GLOBAL SOCIAL MEDIA DIRECTOR                                   1\n",
       "LEAD APPLICATION ENGINEER                                      1\n",
       "DIRECTOR, INTERNATIONAL TAX                                    1\n",
       "SENIOR JAVA ENGINEER, NIKE DIGITAL                             1\n",
       "EXPERT APPLICATION SECURITY ENGINEER                           1\n",
       "BUSINESS ANALYST - DIRECT TO CONSUMER SUPPLY CHAIN             1\n",
       "SR DESIGNER, VISUAL DISPLAY & DESIGN, GLOBAL RETAIL DESIGN     1\n",
       "SENIOR BIOMECHANICS RESEARCHER - NSRL                          1\n",
       "DATA ENGINEERING TECH LEAD                                     1\n",
       "KNIT PRODUCT CREATION PROGRAMMER II                            1\n",
       "SENIOR BUSINESS ANALYTICS MANAGER                              1\n",
       "STRATEGIC PLANNING MANAGER - HUMAN RESOURCES                   1\n",
       "IT TECHNOLOGY ENGINEER                                         1\n",
       "CONSUMER DATA SYNDICATION MANAGER                              1\n",
       "PROFESSIONAL LEAD, SOFTWARE QUALITY ASSURANCE                  1\n",
       "SR. APPLICATION ENGINEER                                       1\n",
       "MENS APPAREL DESIGN DIRECTOR                                   1\n",
       "HR TERRITORY LEAD                                              1\n",
       "DATA SCIENTIST, INTEGRATED ANALYTICS                           1\n",
       "SUSTAINABILITY SENIOR STRATEGY PLANNING MANAGER                1\n",
       "FOOTWEAR DESIGNER II, GLOBAL NIKE SKATEBOARDING                1\n",
       "MATERIALS DESIGNER II                                          1\n",
       "SR BUSINESS ANALYST                                            1\n",
       "SENIOR ARCHITECT (SENIOR APPLICATION ENGINEER)                 1\n",
       "SAP BUSINESS SYSTEMS ANALYST                                   1\n",
       "DIGITAL COMMERCE SR. ANALYST                                   1\n",
       "Name: position, Length: 363, dtype: int64"
      ]
     },
     "execution_count": 61,
     "metadata": {},
     "output_type": "execute_result"
    }
   ],
   "source": [
    "df.position.value_counts()"
   ]
  },
  {
   "cell_type": "markdown",
   "metadata": {},
   "source": [
    "# Build the word count vector for each position names"
   ]
  },
  {
   "cell_type": "code",
   "execution_count": 62,
   "metadata": {},
   "outputs": [
    {
     "ename": "ImportError",
     "evalue": "No module named graphlab",
     "output_type": "error",
     "traceback": [
      "\u001b[1;31m---------------------------------------------------------------------------\u001b[0m",
      "\u001b[1;31mImportError\u001b[0m                               Traceback (most recent call last)",
      "\u001b[1;32m<ipython-input-62-4b66ad388e97>\u001b[0m in \u001b[0;36m<module>\u001b[1;34m()\u001b[0m\n\u001b[1;32m----> 1\u001b[1;33m \u001b[1;32mimport\u001b[0m \u001b[0mgraphlab\u001b[0m\u001b[1;33m\u001b[0m\u001b[0m\n\u001b[0m",
      "\u001b[1;31mImportError\u001b[0m: No module named graphlab"
     ]
    }
   ],
   "source": [
    "import graphlab"
   ]
  },
  {
   "cell_type": "code",
   "execution_count": null,
   "metadata": {},
   "outputs": [],
   "source": []
  }
 ],
 "metadata": {
  "kernelspec": {
   "display_name": "Python 2",
   "language": "python",
   "name": "python2"
  },
  "language_info": {
   "codemirror_mode": {
    "name": "ipython",
    "version": 2
   },
   "file_extension": ".py",
   "mimetype": "text/x-python",
   "name": "python",
   "nbconvert_exporter": "python",
   "pygments_lexer": "ipython2",
   "version": "2.7.14"
  }
 },
 "nbformat": 4,
 "nbformat_minor": 2
}
